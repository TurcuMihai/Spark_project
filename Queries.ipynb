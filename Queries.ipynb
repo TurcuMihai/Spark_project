{
 "cells": [
  {
   "cell_type": "code",
   "execution_count": 3,
   "id": "9bbbc29b-262b-476a-bceb-b5ebefa23d6d",
   "metadata": {},
   "outputs": [],
   "source": [
    "from pyspark.shell import sqlContext\n",
    "from pyspark.sql import SparkSession"
   ]
  },
  {
   "cell_type": "code",
   "execution_count": 4,
   "id": "c673a8d9-a076-4903-8f5a-0a49a0b8d582",
   "metadata": {},
   "outputs": [],
   "source": [
    "from pyspark.sql import SparkSession\n",
    "import pyspark.sql.functions as F\n",
    "import pyspark.sql.types as T\n",
    "\n",
    "spark = (\n",
    "    SparkSession.builder.appName(\"Queries_App\")\n",
    "    .config(\"spark.executor.memory\", \"1G\")\n",
    "    .config(\"spark.executor.cores\", \"2\")\n",
    "    .config(\"master\", \"spark://master:7077\")\n",
    "    .getOrCreate()\n",
    ")"
   ]
  },
  {
   "cell_type": "code",
   "execution_count": 5,
   "id": "8a7ffb96-d3bf-4d9a-891d-07562d9101cf",
   "metadata": {},
   "outputs": [
    {
     "name": "stderr",
     "output_type": "stream",
     "text": [
      "                                                                                "
     ]
    }
   ],
   "source": [
    "vehicles = spark.read.csv(\"/proiect/vehicle_claims.csv\", inferSchema=True, header=True)"
   ]
  },
  {
   "cell_type": "code",
   "execution_count": 6,
   "id": "2332eaa5-99ec-4d04-91cd-b00421be21a1",
   "metadata": {},
   "outputs": [],
   "source": [
    "vehicles.createOrReplaceTempView('vehicles')"
   ]
  },
  {
   "cell_type": "code",
   "execution_count": 7,
   "id": "89acb894-368c-4e2c-a65b-76c72e4e0135",
   "metadata": {},
   "outputs": [],
   "source": [
    "import pyspark"
   ]
  },
  {
   "cell_type": "code",
   "execution_count": 8,
   "id": "39c0640d-6f1c-498c-857f-c34b255de524",
   "metadata": {},
   "outputs": [
    {
     "name": "stdout",
     "output_type": "stream",
     "text": [
      "+-------+---------+------------+--------+---------+------+--------+--------+------------+----------+---------+---------+-------+--------+--------+--------------------+--------+-------+--------------+-----------------+------------------+-----------------+-----------+\n",
      "|  Maker| Genmodel| Genmodel_ID|Adv_year|Adv_month| Color|Reg_year|Bodytype|Runned_Miles|Engin_size|  Gearbox|Fuel_type|  Price|Seat_num|Door_num|               issue|issue_id|Adv_day|breakdown_date|repair_complexity|       repair_cost|     repair_hours|repair_date|\n",
      "+-------+---------+------------+--------+---------+------+--------+--------+------------+----------+---------+---------+-------+--------+--------+--------------------+--------+-------+--------------+-----------------+------------------+-----------------+-----------+\n",
      "|Bentley|   Arnage|        10_1|    2018|        4|Silver|  2000.0|  Saloon|       60000|      6.8L|Automatic|   Petrol|21500.0|     5.0|     4.0|    Electrical Issue|       4|     12|    2018-04-12|                3|             184.5|              6.0| 2018-04-13|\n",
      "|Bentley|   Arnage|        10_1|    2018|        6|  Grey|  2002.0|  Saloon|       44000|      6.8L|Automatic|   Petrol|28750.0|     5.0|     4.0|     Brake Pads Worn|       0|     10|    2018-06-10|                3|           134.375|              6.0| 2018-06-11|\n",
      "|Bentley|   Arnage|        10_1|    2017|       11|  Blue|  2002.0|  Saloon|       55000|      6.8L|Automatic|   Petrol|29999.0|     5.0|     4.0|          Flat Tyres|       0|      2|    2017-11-02|                3|           68.9997|              3.0| 2017-11-02|\n",
      "|Bentley|   Arnage|        10_1|    2018|        4| Green|  2003.0|  Saloon|       14000|      6.8L|Automatic|   Petrol|34948.0|     5.0|     4.0|      Gear Box Issue|       0|     27|    2018-04-27|                3|            469.48|              6.0| 2018-04-28|\n",
      "|Bentley|   Arnage|        10_1|    2017|       11|  Grey|  2003.0|  Saloon|       61652|      6.8L|Automatic|   Petrol|26555.0|     5.0|     4.0|    Electrical Issue|       4|     23|    2017-11-23|                3|199.66500000000002|              6.0| 2017-11-24|\n",
      "|Bentley|   Arnage|        10_1|    2017|       12|  Blue|  2002.0|  Saloon|       55000|      6.8L|Automatic|   Petrol|24950.0|     5.0|     4.0|          Flat Tyres|       0|      7|    2017-12-07|                3|            67.485|              3.0| 2017-12-07|\n",
      "|Bentley|   Arnage|        10_1|    2018|        8| Green|  2002.0|  Saloon|       67000|      6.8L|Automatic|   Petrol|29995.0|     5.0|     4.0|    Windscreen Crack|       0|     15|    2018-08-15|                3|            77.997|              3.0| 2018-08-15|\n",
      "|Bentley|   Arnage|        10_1|    2018|        4| Black|  2003.0|  Saloon|       99200|      6.8L|Automatic|   Petrol|22450.0|     5.0|     4.0|    Radiator Leaking|       0|      1|    2018-04-01|                3|             569.0|              6.0| 2018-04-02|\n",
      "|Bentley|   Arnage|        10_1|    2018|        2|Silver|  2003.0|  Saloon|       27541|      6.8L|Automatic|   Petrol|26990.0|     4.0|     4.0|    Radiator Leaking|       0|      9|    2018-02-09|                3|             659.8|              6.0| 2018-02-10|\n",
      "|Bentley|   Arnage|        10_1|    2017|       11|Silver|  2003.0|  Saloon|       38000|      6.8L|Automatic|   Petrol|29995.0|     5.0|     4.0|        Engine Issue|       2|     21|    2017-11-21|                3| 23801.92097015141|             48.0| 2017-12-03|\n",
      "|Bentley|   Arnage|        10_1|    2018|        3| Green|  2003.0|  Saloon|       69491|      6.8L|Automatic|   Petrol|23995.0|     5.0|     4.0|      Tyre Alignment|       0|      5|    2018-03-05|                3|           32.3995|              1.5| 2018-03-05|\n",
      "|Bentley|   Arnage|        10_1|    2018|        6|Silver|  2002.0|  Saloon|       52000|      6.8L|Automatic|   Petrol|26990.0|     5.0|     4.0|        Engine Issue|       4|      8|    2018-06-08|                3|            1949.5|             30.0| 2018-06-15|\n",
      "|Bentley|   Arnage|        10_1|    2018|        4|Silver|  2000.0|  Saloon|       53444|      6.8L|Automatic|   Petrol|21995.0|     5.0|     4.0|       Warning Light|       0|     27|    2018-04-27|                3|            759.95|             27.0| 2018-05-03|\n",
      "|Bentley|   Arnage|        10_1|    2018|        7|  Blue|  2002.0|  Saloon|       58000|      6.8L|Automatic|   Petrol|25950.0|     5.0|     4.0| Starter Motor Issue|       0|     18|    2018-07-18|                3|             439.5|              9.0| 2018-07-20|\n",
      "|Bentley|   Arnage|        10_1|    2018|        4| Black|  2000.0|  Saloon|       61500|      6.7L|Automatic|   Petrol|16500.0|    20.0|     0.0|          Flat Tyres|       0|     16|    2018-04-16|                3|             64.95|              3.0| 2018-04-16|\n",
      "|Bentley|   Arnage|        10_1|    2017|       12|  Blue|  2000.0|  Saloon|       49700|      4.4L|Automatic|   Petrol|29500.0|     5.0|     4.0|      Tyre Alignment|       0|     19|    2017-12-19|                3|             32.95|              1.5| 2017-12-19|\n",
      "|Bentley|   Arnage|        10_1|    2018|        2|  Gelb|  2003.0|  Saloon|       35000|      6.8L|Automatic|   Petrol|35000.0|    16.0|     0.0|     Brake Pads Worn|       0|     22|    2018-02-22|                3|             137.5|              6.0| 2018-02-23|\n",
      "|Bentley|   Arnage|        10_1|    2018|        4| White|  2000.0|  Saloon|       75000|      6.8L|Automatic|   Petrol|17995.0|     5.0|     4.0|      Tyre Alignment|       0|     23|    2018-04-23|                3|31.799500000000002|              1.5| 2018-04-23|\n",
      "|Bentley|   Arnage|        10_1|    2018|        4|  Grey|  2003.0|  Saloon|       48226|      6.8L|Automatic|   Petrol|33950.0|     5.0|     4.0|      Tyre Alignment|       0|     16|    2018-04-16|                3|            33.395|              1.5| 2018-04-16|\n",
      "|Bentley|   Arnage|        10_1|    2018|        4|  Blue|  2003.0|  Saloon|       92000|      6.8L|Automatic|   Petrol|25995.0|     5.0|     0.0|Steering Wheel Sh...|       0|     16|    2018-04-16|                3|404.65588997202013|305.8490082360678| 2018-07-01|\n",
      "+-------+---------+------------+--------+---------+------+--------+--------+------------+----------+---------+---------+-------+--------+--------+--------------------+--------+-------+--------------+-----------------+------------------+-----------------+-----------+\n",
      "only showing top 20 rows\n",
      "\n"
     ]
    }
   ],
   "source": [
    "# 1. Selectează toate rândurile unde Gearbox = \"Automatic\"\n",
    "spark.sql('SELECT * FROM vehicles WHERE Gearbox = \"Automatic\"').show()"
   ]
  },
  {
   "cell_type": "code",
   "execution_count": 9,
   "id": "8b28e2d3-ce5d-4960-9f81-42116c5a78f1",
   "metadata": {},
   "outputs": [
    {
     "name": "stderr",
     "output_type": "stream",
     "text": [
      "[Stage 3:=============================>                             (4 + 4) / 8]"
     ]
    },
    {
     "name": "stdout",
     "output_type": "stream",
     "text": [
      "+--------------+------+\n",
      "|       Gearbox| count|\n",
      "+--------------+------+\n",
      "|     Automatic| 97119|\n",
      "|        Hybrid|   167|\n",
      "|        Manual|170832|\n",
      "|Semi-Automatic|   137|\n",
      "+--------------+------+\n",
      "\n"
     ]
    },
    {
     "name": "stderr",
     "output_type": "stream",
     "text": [
      "                                                                                "
     ]
    }
   ],
   "source": [
    "# 2. Numără câte mașini sunt pentru fiecare tip de Gearbox\n",
    "spark.sql('SELECT Gearbox, COUNT(*) AS count FROM vehicles GROUP BY Gearbox').show()"
   ]
  },
  {
   "cell_type": "code",
   "execution_count": 10,
   "id": "92dd447c-ac7b-4e7f-b26e-857f9d52e33f",
   "metadata": {},
   "outputs": [
    {
     "name": "stderr",
     "output_type": "stream",
     "text": [
      "[Stage 6:===================================================>       (7 + 1) / 8]"
     ]
    },
    {
     "name": "stdout",
     "output_type": "stream",
     "text": [
      "+--------------+------------------+\n",
      "|       Gearbox|         avg_price|\n",
      "+--------------+------------------+\n",
      "|     Automatic|21492.755042782566|\n",
      "|        Hybrid| 92543.62275449102|\n",
      "|        Manual| 8574.819694202492|\n",
      "|Semi-Automatic|109941.43795620438|\n",
      "+--------------+------------------+\n",
      "\n"
     ]
    },
    {
     "name": "stderr",
     "output_type": "stream",
     "text": [
      "                                                                                "
     ]
    }
   ],
   "source": [
    "# 3. Media prețului (Price) pentru fiecare tip de Gearbox\n",
    "spark.sql('SELECT Gearbox, AVG(Price) AS avg_price FROM vehicles GROUP BY Gearbox').show()"
   ]
  },
  {
   "cell_type": "code",
   "execution_count": 11,
   "id": "a88dd521-b1de-4f66-b162-25df78cf4b71",
   "metadata": {},
   "outputs": [
    {
     "name": "stderr",
     "output_type": "stream",
     "text": [
      "[Stage 9:===================================================>       (7 + 1) / 8]"
     ]
    },
    {
     "name": "stdout",
     "output_type": "stream",
     "text": [
      "+------------+\n",
      "|       Maker|\n",
      "+------------+\n",
      "|    Cadillac|\n",
      "|    Chrysler|\n",
      "|     Ferrari|\n",
      "|    Daihatsu|\n",
      "|     Bentley|\n",
      "|  Land Rover|\n",
      "|  Alfa Romeo|\n",
      "|     McLaren|\n",
      "|     Lincoln|\n",
      "|       Lotus|\n",
      "|       Rover|\n",
      "| Rolls-Royce|\n",
      "|      Jaguar|\n",
      "|     Porsche|\n",
      "|Aston Martin|\n",
      "|      Subaru|\n",
      "|       Volvo|\n",
      "+------------+\n",
      "\n"
     ]
    },
    {
     "name": "stderr",
     "output_type": "stream",
     "text": [
      "                                                                                "
     ]
    }
   ],
   "source": [
    "# 4. Selectează toate mașinile care au repair_complexity = 3 și Gearbox este \"Automatic\"\n",
    "spark.sql('SELECT distinct(Maker) FROM vehicles WHERE repair_complexity = 3 AND Gearbox = \"Automatic\"').show()\n"
   ]
  },
  {
   "cell_type": "code",
   "execution_count": 12,
   "id": "860b9f22-b0bc-4393-8156-8b9bcc513a43",
   "metadata": {},
   "outputs": [
    {
     "name": "stdout",
     "output_type": "stream",
     "text": [
      "+-----+--------------------+-------------+------------------+\n",
      "|Maker|               issue|total_repairs|total_repair_hours|\n",
      "+-----+--------------------+-------------+------------------+\n",
      "| Ford|       Warning Light|         1901|100890.76638849115|\n",
      "| Ford|  Transmission Issue|         1862| 55366.73960970528|\n",
      "| Ford|    Electrical Issue|         1850|24105.280654733648|\n",
      "| Ford|        Engine Issue|         1828|329831.52258088323|\n",
      "| Ford|      Tyre Alignment|         1828| 4173.443043171217|\n",
      "| Ford|  Alternator Failing|         1817| 79422.81998115567|\n",
      "| Ford| Starter Motor Issue|         1812|46039.652652356555|\n",
      "| Ford|     Brake Pads Worn|         1810| 15982.75249928554|\n",
      "| Ford|  Sensor Malfunction|         1795| 158318.6829257151|\n",
      "| Ford|Steering Wheel Sh...|         1771|10303.298949893124|\n",
      "| Ford|    Radiator Leaking|         1761| 78009.85183164844|\n",
      "| Ford|      Gear Box Issue|         1760|46004.813953169956|\n",
      "| Ford|    Windscreen Crack|         1742| 9104.707215245651|\n",
      "| Ford|          Flat Tyres|         1712| 8988.897212933718|\n",
      "| Ford| Excessive Emissions|         1688|10591.172311748564|\n",
      "| Audi|  Sensor Malfunction|         1542|451189.05492017796|\n",
      "| Audi| Excessive Emissions|         1538|12493.326164012593|\n",
      "| Audi|Steering Wheel Sh...|         1520| 11962.34387269505|\n",
      "| Audi|        Engine Issue|         1518| 847423.2513030454|\n",
      "| Audi|    Windscreen Crack|         1517| 9828.098555680162|\n",
      "+-----+--------------------+-------------+------------------+\n",
      "only showing top 20 rows\n",
      "\n"
     ]
    }
   ],
   "source": [
    "# 5.Numărul total de reparații și suma orelor de reparație pe fiecare Maker și tip de issue\n",
    "query = \"\"\"\n",
    "SELECT \n",
    "  Maker, \n",
    "  issue, \n",
    "  COUNT(*) AS total_repairs, \n",
    "  SUM(repair_hours) AS total_repair_hours\n",
    "FROM vehicles\n",
    "GROUP BY Maker, issue\n",
    "ORDER BY total_repairs DESC\n",
    "\"\"\"\n",
    "spark.sql(query).show()\n"
   ]
  },
  {
   "cell_type": "code",
   "execution_count": null,
   "id": "934fefd5-03d6-4456-b006-16166d5c2187",
   "metadata": {},
   "outputs": [],
   "source": []
  }
 ],
 "metadata": {
  "kernelspec": {
   "display_name": "Python 3 (ipykernel)",
   "language": "python",
   "name": "python3"
  },
  "language_info": {
   "codemirror_mode": {
    "name": "ipython",
    "version": 3
   },
   "file_extension": ".py",
   "mimetype": "text/x-python",
   "name": "python",
   "nbconvert_exporter": "python",
   "pygments_lexer": "ipython3",
   "version": "3.10.12"
  }
 },
 "nbformat": 4,
 "nbformat_minor": 5
}
