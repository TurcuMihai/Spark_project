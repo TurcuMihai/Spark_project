{
 "cells": [
  {
   "cell_type": "code",
   "execution_count": 102,
   "id": "5b19c7e0-a164-425d-9cfb-fef89f1648f9",
   "metadata": {},
   "outputs": [],
   "source": [
    "from pyspark.sql import SparkSession\n",
    "from pyspark.sql.functions import when, col\n",
    "import pyspark.sql.functions as F\n",
    "import pyspark.sql.types as T\n",
    "\n",
    "spark = (\n",
    "    SparkSession.builder.appName(\"EDA_Charts_App\")\n",
    "    .config(\"spark.executor.memory\", \"1G\")\n",
    "    .config(\"spark.executor.cores\", \"1\")\n",
    "    .config(\"spark.cores.max\", \"3\")\n",
    "    .config(\"spark.master\", \"spark://master:7077\")\n",
    "    .getOrCreate()\n",
    ")"
   ]
  },
  {
   "cell_type": "code",
   "execution_count": 103,
   "id": "38825426-93a6-41da-acf9-c0270cf330eb",
   "metadata": {},
   "outputs": [
    {
     "data": {
      "text/html": [
       "\n",
       "            <div>\n",
       "                <p><b>SparkSession - in-memory</b></p>\n",
       "                \n",
       "        <div>\n",
       "            <p><b>SparkContext</b></p>\n",
       "\n",
       "            <p><a href=\"http://master:4040\">Spark UI</a></p>\n",
       "\n",
       "            <dl>\n",
       "              <dt>Version</dt>\n",
       "                <dd><code>v3.5.0</code></dd>\n",
       "              <dt>Master</dt>\n",
       "                <dd><code>spark://master:7077</code></dd>\n",
       "              <dt>AppName</dt>\n",
       "                <dd><code>EDA_Charts_App</code></dd>\n",
       "            </dl>\n",
       "        </div>\n",
       "        \n",
       "            </div>\n",
       "        "
      ],
      "text/plain": [
       "<pyspark.sql.session.SparkSession at 0x7fb315acfdc0>"
      ]
     },
     "execution_count": 103,
     "metadata": {},
     "output_type": "execute_result"
    }
   ],
   "source": [
    "spark"
   ]
  },
  {
   "cell_type": "code",
   "execution_count": 104,
   "id": "ca2332d8-3ef9-418f-b41d-b0397c641123",
   "metadata": {},
   "outputs": [
    {
     "name": "stdout",
     "output_type": "stream",
     "text": [
      "Defaulting to user installation because normal site-packages is not writeable\n",
      "Requirement already satisfied: pandas in /home/ubuntu/.local/lib/python3.10/site-packages (2.2.3)\n",
      "Requirement already satisfied: python-dateutil>=2.8.2 in /home/ubuntu/.local/lib/python3.10/site-packages (from pandas) (2.9.0.post0)\n",
      "Requirement already satisfied: numpy>=1.22.4 in /home/ubuntu/.local/lib/python3.10/site-packages (from pandas) (2.2.6)\n",
      "Requirement already satisfied: pytz>=2020.1 in /usr/lib/python3/dist-packages (from pandas) (2022.1)\n",
      "Requirement already satisfied: tzdata>=2022.7 in /home/ubuntu/.local/lib/python3.10/site-packages (from pandas) (2025.2)\n",
      "Requirement already satisfied: six>=1.5 in /usr/lib/python3/dist-packages (from python-dateutil>=2.8.2->pandas) (1.16.0)\n",
      "Note: you may need to restart the kernel to use updated packages.\n"
     ]
    }
   ],
   "source": [
    "pip install pandas"
   ]
  },
  {
   "cell_type": "code",
   "execution_count": 105,
   "id": "e52a4a0f-39ef-4d1d-9a27-3068601fabf7",
   "metadata": {
    "scrolled": true
   },
   "outputs": [
    {
     "name": "stdout",
     "output_type": "stream",
     "text": [
      "Defaulting to user installation because normal site-packages is not writeable\n",
      "Requirement already satisfied: seaborn in /home/ubuntu/.local/lib/python3.10/site-packages (0.13.2)\n",
      "Requirement already satisfied: pandas>=1.2 in /home/ubuntu/.local/lib/python3.10/site-packages (from seaborn) (2.2.3)\n",
      "Requirement already satisfied: numpy!=1.24.0,>=1.20 in /home/ubuntu/.local/lib/python3.10/site-packages (from seaborn) (2.2.6)\n",
      "Requirement already satisfied: matplotlib!=3.6.1,>=3.4 in /home/ubuntu/.local/lib/python3.10/site-packages (from seaborn) (3.10.3)\n",
      "Requirement already satisfied: cycler>=0.10 in /home/ubuntu/.local/lib/python3.10/site-packages (from matplotlib!=3.6.1,>=3.4->seaborn) (0.12.1)\n",
      "Requirement already satisfied: packaging>=20.0 in /home/ubuntu/.local/lib/python3.10/site-packages (from matplotlib!=3.6.1,>=3.4->seaborn) (25.0)\n",
      "Requirement already satisfied: pyparsing>=2.3.1 in /usr/lib/python3/dist-packages (from matplotlib!=3.6.1,>=3.4->seaborn) (2.4.7)\n",
      "Requirement already satisfied: python-dateutil>=2.7 in /home/ubuntu/.local/lib/python3.10/site-packages (from matplotlib!=3.6.1,>=3.4->seaborn) (2.9.0.post0)\n",
      "Requirement already satisfied: pillow>=8 in /home/ubuntu/.local/lib/python3.10/site-packages (from matplotlib!=3.6.1,>=3.4->seaborn) (11.2.1)\n",
      "Requirement already satisfied: fonttools>=4.22.0 in /home/ubuntu/.local/lib/python3.10/site-packages (from matplotlib!=3.6.1,>=3.4->seaborn) (4.58.1)\n",
      "Requirement already satisfied: contourpy>=1.0.1 in /home/ubuntu/.local/lib/python3.10/site-packages (from matplotlib!=3.6.1,>=3.4->seaborn) (1.3.2)\n",
      "Requirement already satisfied: kiwisolver>=1.3.1 in /home/ubuntu/.local/lib/python3.10/site-packages (from matplotlib!=3.6.1,>=3.4->seaborn) (1.4.8)\n",
      "Requirement already satisfied: tzdata>=2022.7 in /home/ubuntu/.local/lib/python3.10/site-packages (from pandas>=1.2->seaborn) (2025.2)\n",
      "Requirement already satisfied: pytz>=2020.1 in /usr/lib/python3/dist-packages (from pandas>=1.2->seaborn) (2022.1)\n",
      "Requirement already satisfied: six>=1.5 in /usr/lib/python3/dist-packages (from python-dateutil>=2.7->matplotlib!=3.6.1,>=3.4->seaborn) (1.16.0)\n",
      "Note: you may need to restart the kernel to use updated packages.\n"
     ]
    }
   ],
   "source": [
    "pip install seaborn"
   ]
  },
  {
   "cell_type": "code",
   "execution_count": 106,
   "id": "8b6bbfba-3063-4c31-93a1-34352bb7bd25",
   "metadata": {},
   "outputs": [
    {
     "name": "stdout",
     "output_type": "stream",
     "text": [
      "Defaulting to user installation because normal site-packages is not writeable\n",
      "Requirement already satisfied: matplotlib in /home/ubuntu/.local/lib/python3.10/site-packages (3.10.3)\n",
      "Requirement already satisfied: contourpy>=1.0.1 in /home/ubuntu/.local/lib/python3.10/site-packages (from matplotlib) (1.3.2)\n",
      "Requirement already satisfied: python-dateutil>=2.7 in /home/ubuntu/.local/lib/python3.10/site-packages (from matplotlib) (2.9.0.post0)\n",
      "Requirement already satisfied: fonttools>=4.22.0 in /home/ubuntu/.local/lib/python3.10/site-packages (from matplotlib) (4.58.1)\n",
      "Requirement already satisfied: kiwisolver>=1.3.1 in /home/ubuntu/.local/lib/python3.10/site-packages (from matplotlib) (1.4.8)\n",
      "Requirement already satisfied: packaging>=20.0 in /home/ubuntu/.local/lib/python3.10/site-packages (from matplotlib) (25.0)\n",
      "Requirement already satisfied: numpy>=1.23 in /home/ubuntu/.local/lib/python3.10/site-packages (from matplotlib) (2.2.6)\n",
      "Requirement already satisfied: pillow>=8 in /home/ubuntu/.local/lib/python3.10/site-packages (from matplotlib) (11.2.1)\n",
      "Requirement already satisfied: pyparsing>=2.3.1 in /usr/lib/python3/dist-packages (from matplotlib) (2.4.7)\n",
      "Requirement already satisfied: cycler>=0.10 in /home/ubuntu/.local/lib/python3.10/site-packages (from matplotlib) (0.12.1)\n",
      "Requirement already satisfied: six>=1.5 in /usr/lib/python3/dist-packages (from python-dateutil>=2.7->matplotlib) (1.16.0)\n",
      "Note: you may need to restart the kernel to use updated packages.\n"
     ]
    }
   ],
   "source": [
    "pip install matplotlib"
   ]
  },
  {
   "cell_type": "code",
   "execution_count": 107,
   "id": "af9d9449-c05a-4ec2-b1ee-342c532f7044",
   "metadata": {},
   "outputs": [
    {
     "name": "stderr",
     "output_type": "stream",
     "text": [
      "                                                                                "
     ]
    }
   ],
   "source": [
    "df = spark.read.csv(\"/proiect/vehicle_claims.csv\", inferSchema=True, header=True)"
   ]
  },
  {
   "cell_type": "code",
   "execution_count": 108,
   "id": "3d667b20-ca71-44cd-aa0f-e505ac0b058b",
   "metadata": {},
   "outputs": [],
   "source": [
    "df = df.filter(\"Gearbox IN ('Automatic', 'Manual')\")"
   ]
  },
  {
   "cell_type": "code",
   "execution_count": 109,
   "id": "9c3f27be-70ba-46c2-9733-54f26c177f18",
   "metadata": {},
   "outputs": [
    {
     "name": "stderr",
     "output_type": "stream",
     "text": [
      "                                                                                "
     ]
    }
   ],
   "source": [
    "bd=df.toPandas()"
   ]
  },
  {
   "cell_type": "code",
   "execution_count": 110,
   "id": "db49288b-f212-44bb-aabf-50213cc4a2c3",
   "metadata": {},
   "outputs": [
    {
     "name": "stdout",
     "output_type": "stream",
     "text": [
      "<class 'pandas.core.frame.DataFrame'>\n"
     ]
    }
   ],
   "source": [
    "print(type(bd))"
   ]
  },
  {
   "cell_type": "code",
   "execution_count": 111,
   "id": "b64e7ed7-3e6d-4c49-8134-0011190b285e",
   "metadata": {},
   "outputs": [],
   "source": [
    "import pandas as pd\n",
    "import matplotlib as plt\n",
    "import seaborn as sns"
   ]
  },
  {
   "cell_type": "code",
   "execution_count": 112,
   "id": "399b69f8-8176-487a-8cf6-9eafd61f27ff",
   "metadata": {},
   "outputs": [
    {
     "data": {
      "text/plain": [
       "<Axes: xlabel='repair_cost'>"
      ]
     },
     "execution_count": 112,
     "metadata": {},
     "output_type": "execute_result"
    },
    {
     "data": {
      "image/png": "[encoded data removed]",
      "text/plain": [
       "<Figure size 640x480 with 1 Axes>"
      ]
     },
     "metadata": {},
     "output_type": "display_data"
    }
   ],
   "source": [
    "sns.boxplot(x=bd['repair_cost'])"
   ]
  },
  {
   "cell_type": "code",
   "execution_count": 113,
   "id": "e4e12c8d-b583-4ac6-8d67-8b6f4249bda4",
   "metadata": {},
   "outputs": [
    {
     "data": {
      "text/plain": [
       "<Axes: xlabel='Gearbox', ylabel='repair_cost'>"
      ]
     },
     "execution_count": 113,
     "metadata": {},
     "output_type": "execute_result"
    },
    {
     "data": {
      "image/png": "[encoded data removed]",
      "text/plain": [
       "<Figure size 640x480 with 1 Axes>"
      ]
     },
     "metadata": {},
     "output_type": "display_data"
    }
   ],
   "source": [
    "sns.boxplot(x=bd['Gearbox'], y=bd['repair_cost'])"
   ]
  },
  {
   "cell_type": "code",
   "execution_count": 114,
   "id": "f42316b5-b729-4cb5-8cac-975cd2534581",
   "metadata": {},
   "outputs": [
    {
     "data": {
      "text/plain": [
       "<Axes: xlabel='count', ylabel='Gearbox'>"
      ]
     },
     "execution_count": 114,
     "metadata": {},
     "output_type": "execute_result"
    },
    {
     "data": {
      "image/png": "[encoded data removed]",
      "text/plain": [
       "<Figure size 640x480 with 1 Axes>"
      ]
     },
     "metadata": {},
     "output_type": "display_data"
    }
   ],
   "source": [
    "sns.countplot(bd['Gearbox'])"
   ]
  },
  {
   "cell_type": "code",
   "execution_count": 115,
   "id": "5b7d218f-dad2-4cb4-b13a-b3b6cd227eb4",
   "metadata": {},
   "outputs": [
    {
     "name": "stdout",
     "output_type": "stream",
     "text": [
      "root\n",
      " |-- Maker: string (nullable = true)\n",
      " |--  Genmodel: string (nullable = true)\n",
      " |--  Genmodel_ID: string (nullable = true)\n",
      " |-- Adv_year: integer (nullable = true)\n",
      " |-- Adv_month: integer (nullable = true)\n",
      " |-- Color: string (nullable = true)\n",
      " |-- Reg_year: double (nullable = true)\n",
      " |-- Bodytype: string (nullable = true)\n",
      " |-- Runned_Miles: string (nullable = true)\n",
      " |-- Engin_size: string (nullable = true)\n",
      " |-- Gearbox: string (nullable = true)\n",
      " |-- Fuel_type: string (nullable = true)\n",
      " |-- Price: double (nullable = true)\n",
      " |-- Seat_num: double (nullable = true)\n",
      " |-- Door_num: double (nullable = true)\n",
      " |-- issue: string (nullable = true)\n",
      " |-- issue_id: integer (nullable = true)\n",
      " |-- Adv_day: integer (nullable = true)\n",
      " |-- breakdown_date: date (nullable = true)\n",
      " |-- repair_complexity: integer (nullable = true)\n",
      " |-- repair_cost: double (nullable = true)\n",
      " |-- repair_hours: double (nullable = true)\n",
      " |-- repair_date: date (nullable = true)\n",
      "\n"
     ]
    }
   ],
   "source": [
    "df.printSchema()"
   ]
  },
  {
   "cell_type": "code",
   "execution_count": 116,
   "id": "b0173251-be31-4083-8fef-eadc47b92e4d",
   "metadata": {},
   "outputs": [
    {
     "name": "stdout",
     "output_type": "stream",
     "text": [
      "root\n",
      " |-- Maker: string (nullable = true)\n",
      " |--  Genmodel: string (nullable = true)\n",
      " |--  Genmodel_ID: string (nullable = true)\n",
      " |-- Adv_year: string (nullable = true)\n",
      " |-- Adv_month: string (nullable = true)\n",
      " |-- Color: string (nullable = true)\n",
      " |-- Reg_year: string (nullable = true)\n",
      " |-- Bodytype: string (nullable = true)\n",
      " |-- Runned_Miles: string (nullable = true)\n",
      " |-- Engin_size: string (nullable = true)\n",
      " |-- Gearbox: string (nullable = true)\n",
      " |-- Fuel_type: string (nullable = true)\n",
      " |-- Price: string (nullable = true)\n",
      " |-- Seat_num: string (nullable = true)\n",
      " |-- Door_num: string (nullable = true)\n",
      " |-- issue: string (nullable = true)\n",
      " |-- issue_id: string (nullable = true)\n",
      " |-- Adv_day: string (nullable = true)\n",
      " |-- breakdown_date: string (nullable = true)\n",
      " |-- repair_complexity: string (nullable = true)\n",
      " |-- repair_cost: string (nullable = true)\n",
      " |-- repair_hours: string (nullable = true)\n",
      " |-- repair_date: string (nullable = true)\n",
      "\n"
     ]
    }
   ],
   "source": [
    "df_string = spark.read.csv(\"/proiect/vehicle_claims.csv\", inferSchema=False, header=True)\n",
    "df_string.printSchema()"
   ]
  },
  {
   "cell_type": "code",
   "execution_count": 117,
   "id": "6c2dcfe3-0337-4b6a-9249-3e9f00f3f57c",
   "metadata": {},
   "outputs": [],
   "source": [
    "Vector = ['Adv_year','Adv_month', 'Reg_year', 'Price', 'Seat_num', 'Door_num', 'issue_id', 'Adv_day', 'repair_complexity', 'repair_cost', 'repair_hours']\n"
   ]
  },
  {
   "cell_type": "code",
   "execution_count": 118,
   "id": "ff3cd36a-9ac7-42a3-ad1a-c4c53751978c",
   "metadata": {},
   "outputs": [],
   "source": [
    "from pyspark.sql.types import *\n",
    "\n",
    "# scriem o functie custom made pentru a converti tipul de date al coloanelor DataFrame-ului\n",
    "def stingToInteger(df, names, newType):\n",
    "    for name in names: \n",
    "        df = df.withColumn(name, df[name].cast(newType))\n",
    "    return df"
   ]
  },
  {
   "cell_type": "code",
   "execution_count": 119,
   "id": "558e2ee5-88e0-4b59-b9b4-be9ba20a1085",
   "metadata": {},
   "outputs": [
    {
     "name": "stdout",
     "output_type": "stream",
     "text": [
      "root\n",
      " |-- Maker: string (nullable = true)\n",
      " |--  Genmodel: string (nullable = true)\n",
      " |--  Genmodel_ID: string (nullable = true)\n",
      " |-- Adv_year: integer (nullable = true)\n",
      " |-- Adv_month: integer (nullable = true)\n",
      " |-- Color: string (nullable = true)\n",
      " |-- Reg_year: integer (nullable = true)\n",
      " |-- Bodytype: string (nullable = true)\n",
      " |-- Runned_Miles: string (nullable = true)\n",
      " |-- Engin_size: string (nullable = true)\n",
      " |-- Gearbox: string (nullable = true)\n",
      " |-- Fuel_type: string (nullable = true)\n",
      " |-- Price: integer (nullable = true)\n",
      " |-- Seat_num: integer (nullable = true)\n",
      " |-- Door_num: integer (nullable = true)\n",
      " |-- issue: string (nullable = true)\n",
      " |-- issue_id: integer (nullable = true)\n",
      " |-- Adv_day: integer (nullable = true)\n",
      " |-- breakdown_date: date (nullable = true)\n",
      " |-- repair_complexity: integer (nullable = true)\n",
      " |-- repair_cost: integer (nullable = true)\n",
      " |-- repair_hours: integer (nullable = true)\n",
      " |-- repair_date: date (nullable = true)\n",
      "\n"
     ]
    }
   ],
   "source": [
    "df_string = stingToInteger(df, Vector, IntegerType())\n",
    "df_string.printSchema()"
   ]
  },
  {
   "cell_type": "code",
   "execution_count": 120,
   "id": "277b2914-b26d-4d6c-b780-ca109765755c",
   "metadata": {},
   "outputs": [
    {
     "data": {
      "text/plain": [
       "DataFrame[Maker: string,  Genmodel: string,  Genmodel_ID: string, Adv_year: int, Adv_month: int, Color: string, Reg_year: double, Bodytype: string, Runned_Miles: string, Engin_size: string, Gearbox: string, Fuel_type: string, Price: double, Seat_num: double, Door_num: double, issue: string, issue_id: int, Adv_day: int, breakdown_date: date, repair_complexity: int, repair_cost: double, repair_hours: double, repair_date: date]"
      ]
     },
     "execution_count": 120,
     "metadata": {},
     "output_type": "execute_result"
    }
   ],
   "source": [
    "df.drop('_c0')"
   ]
  },
  {
   "cell_type": "code",
   "execution_count": 121,
   "id": "7e22f99a-d2a8-4be0-bf41-abe866ba11ec",
   "metadata": {},
   "outputs": [
    {
     "name": "stdout",
     "output_type": "stream",
     "text": [
      "+---------+---------+\n",
      "|  Gearbox|Fuel_type|\n",
      "+---------+---------+\n",
      "|Automatic|   Petrol|\n",
      "|Automatic|   Petrol|\n",
      "|Automatic|   Petrol|\n",
      "|Automatic|   Petrol|\n",
      "|Automatic|   Petrol|\n",
      "|Automatic|   Petrol|\n",
      "|Automatic|   Petrol|\n",
      "|Automatic|   Petrol|\n",
      "|Automatic|   Petrol|\n",
      "|Automatic|   Petrol|\n",
      "+---------+---------+\n",
      "only showing top 10 rows\n",
      "\n"
     ]
    }
   ],
   "source": [
    "df.select('Gearbox','Fuel_type').show(10)"
   ]
  },
  {
   "cell_type": "code",
   "execution_count": 122,
   "id": "1a7d12be-bca6-46ac-8596-b58590b59508",
   "metadata": {},
   "outputs": [
    {
     "name": "stdout",
     "output_type": "stream",
     "text": [
      "+-------+---------+------------+--------+---------+------+--------+--------+------------+----------+---------+---------+-------+--------+--------+----------------+--------+-------+--------------+-----------------+------------------+------------+-----------+\n",
      "|  Maker| Genmodel| Genmodel_ID|Adv_year|Adv_month| Color|Reg_year|Bodytype|Runned_Miles|Engin_size|  Gearbox|Fuel_type|  Price|Seat_num|Door_num|           issue|issue_id|Adv_day|breakdown_date|repair_complexity|       repair_cost|repair_hours|repair_date|\n",
      "+-------+---------+------------+--------+---------+------+--------+--------+------------+----------+---------+---------+-------+--------+--------+----------------+--------+-------+--------------+-----------------+------------------+------------+-----------+\n",
      "|Bentley|   Arnage|        10_1|    2018|        4|Silver|  2000.0|  Saloon|       60000|      6.8L|Automatic|   Petrol|21500.0|     5.0|     4.0|Electrical Issue|       4|     12|    2018-04-12|                3|             184.5|         6.0| 2018-04-13|\n",
      "|Bentley|   Arnage|        10_1|    2018|        6|  Grey|  2002.0|  Saloon|       44000|      6.8L|Automatic|   Petrol|28750.0|     5.0|     4.0| Brake Pads Worn|       0|     10|    2018-06-10|                3|           134.375|         6.0| 2018-06-11|\n",
      "|Bentley|   Arnage|        10_1|    2017|       11|  Blue|  2002.0|  Saloon|       55000|      6.8L|Automatic|   Petrol|29999.0|     5.0|     4.0|      Flat Tyres|       0|      2|    2017-11-02|                3|           68.9997|         3.0| 2017-11-02|\n",
      "|Bentley|   Arnage|        10_1|    2018|        4| Green|  2003.0|  Saloon|       14000|      6.8L|Automatic|   Petrol|34948.0|     5.0|     4.0|  Gear Box Issue|       0|     27|    2018-04-27|                3|            469.48|         6.0| 2018-04-28|\n",
      "|Bentley|   Arnage|        10_1|    2017|       11|  Grey|  2003.0|  Saloon|       61652|      6.8L|Automatic|   Petrol|26555.0|     5.0|     4.0|Electrical Issue|       4|     23|    2017-11-23|                3|199.66500000000002|         6.0| 2017-11-24|\n",
      "+-------+---------+------------+--------+---------+------+--------+--------+------------+----------+---------+---------+-------+--------+--------+----------------+--------+-------+--------------+-----------------+------------------+------------+-----------+\n",
      "only showing top 5 rows\n",
      "\n"
     ]
    }
   ],
   "source": [
    "df.show(5)"
   ]
  },
  {
   "cell_type": "code",
   "execution_count": 123,
   "id": "a4a755f5-b948-47d8-85f6-a5cf306d476b",
   "metadata": {},
   "outputs": [
    {
     "name": "stdout",
     "output_type": "stream",
     "text": [
      "+---------+-----------------+-----------+\n",
      "|  Gearbox|repair_complexity|repair_cost|\n",
      "+---------+-----------------+-----------+\n",
      "|Automatic|                3|      184.5|\n",
      "|Automatic|                3|    134.375|\n",
      "|Automatic|                3|    68.9997|\n",
      "+---------+-----------------+-----------+\n",
      "only showing top 3 rows\n",
      "\n"
     ]
    }
   ],
   "source": [
    "df_sel = df.select(\"Gearbox\", \"repair_complexity\", \"repair_cost\")\n",
    "df_sel.show(3)"
   ]
  },
  {
   "cell_type": "code",
   "execution_count": 124,
   "id": "bcd1a498-700b-41f1-b16d-0a4b948d7594",
   "metadata": {},
   "outputs": [
    {
     "name": "stdout",
     "output_type": "stream",
     "text": [
      "Cost total reparații: 117915178.13708101\n",
      "Cost minim: -2998.0\n",
      "Cost maxim: 307302.9435237476\n",
      "Medie cost: 440.06246715661075\n",
      "Mediană cost: 120.4475\n"
     ]
    }
   ],
   "source": [
    "#analiza descriptiva a unei variabile\n",
    "print(\"Cost total reparații:\", bd['repair_cost'].sum())\n",
    "print(\"Cost minim:\", bd['repair_cost'].min())\n",
    "print(\"Cost maxim:\", bd['repair_cost'].max())\n",
    "print(\"Medie cost:\", bd['repair_cost'].mean())\n",
    "print(\"Mediană cost:\", bd['repair_cost'].median())\n"
   ]
  },
  {
   "cell_type": "code",
   "execution_count": 125,
   "id": "0faee25d-0362-449a-b2ad-5179a4a7780f",
   "metadata": {},
   "outputs": [
    {
     "data": {
      "text/html": [
       "<div>\n",
       "<style scoped>\n",
       "    .dataframe tbody tr th:only-of-type {\n",
       "        vertical-align: middle;\n",
       "    }\n",
       "\n",
       "    .dataframe tbody tr th {\n",
       "        vertical-align: top;\n",
       "    }\n",
       "\n",
       "    .dataframe thead th {\n",
       "        text-align: right;\n",
       "    }\n",
       "</style>\n",
       "<table border=\"1\" class=\"dataframe\">\n",
       "  <thead>\n",
       "    <tr style=\"text-align: right;\">\n",
       "      <th></th>\n",
       "      <th>Adv_year</th>\n",
       "      <th>Adv_month</th>\n",
       "      <th>Reg_year</th>\n",
       "      <th>Price</th>\n",
       "      <th>Seat_num</th>\n",
       "      <th>Door_num</th>\n",
       "      <th>issue_id</th>\n",
       "      <th>Adv_day</th>\n",
       "      <th>repair_complexity</th>\n",
       "      <th>repair_cost</th>\n",
       "      <th>repair_hours</th>\n",
       "    </tr>\n",
       "  </thead>\n",
       "  <tbody>\n",
       "    <tr>\n",
       "      <th>count</th>\n",
       "      <td>267951.000000</td>\n",
       "      <td>267951.000000</td>\n",
       "      <td>267951.000000</td>\n",
       "      <td>2.679510e+05</td>\n",
       "      <td>267951.000000</td>\n",
       "      <td>267951.000000</td>\n",
       "      <td>267951.000000</td>\n",
       "      <td>267951.000000</td>\n",
       "      <td>267951.000000</td>\n",
       "      <td>267951.000000</td>\n",
       "      <td>267951.000000</td>\n",
       "    </tr>\n",
       "    <tr>\n",
       "      <th>mean</th>\n",
       "      <td>2018.127997</td>\n",
       "      <td>5.626215</td>\n",
       "      <td>2012.707570</td>\n",
       "      <td>1.325693e+04</td>\n",
       "      <td>5.142026</td>\n",
       "      <td>4.300965</td>\n",
       "      <td>0.500625</td>\n",
       "      <td>14.530769</td>\n",
       "      <td>1.360809</td>\n",
       "      <td>440.062467</td>\n",
       "      <td>62.255709</td>\n",
       "    </tr>\n",
       "    <tr>\n",
       "      <th>std</th>\n",
       "      <td>0.747601</td>\n",
       "      <td>2.091065</td>\n",
       "      <td>4.464612</td>\n",
       "      <td>3.998111e+04</td>\n",
       "      <td>1.822196</td>\n",
       "      <td>1.143101</td>\n",
       "      <td>1.136547</td>\n",
       "      <td>8.066906</td>\n",
       "      <td>0.724740</td>\n",
       "      <td>1931.753426</td>\n",
       "      <td>798.363583</td>\n",
       "    </tr>\n",
       "    <tr>\n",
       "      <th>min</th>\n",
       "      <td>2012.000000</td>\n",
       "      <td>1.000000</td>\n",
       "      <td>1900.000000</td>\n",
       "      <td>-6.997630e+05</td>\n",
       "      <td>1.000000</td>\n",
       "      <td>0.000000</td>\n",
       "      <td>0.000000</td>\n",
       "      <td>1.000000</td>\n",
       "      <td>1.000000</td>\n",
       "      <td>-2998.000000</td>\n",
       "      <td>-29.000000</td>\n",
       "    </tr>\n",
       "    <tr>\n",
       "      <th>25%</th>\n",
       "      <td>2018.000000</td>\n",
       "      <td>4.000000</td>\n",
       "      <td>2010.000000</td>\n",
       "      <td>4.980000e+03</td>\n",
       "      <td>5.000000</td>\n",
       "      <td>4.000000</td>\n",
       "      <td>0.000000</td>\n",
       "      <td>8.000000</td>\n",
       "      <td>1.000000</td>\n",
       "      <td>40.698250</td>\n",
       "      <td>1.000000</td>\n",
       "    </tr>\n",
       "    <tr>\n",
       "      <th>50%</th>\n",
       "      <td>2018.000000</td>\n",
       "      <td>5.000000</td>\n",
       "      <td>2014.000000</td>\n",
       "      <td>9.275000e+03</td>\n",
       "      <td>5.000000</td>\n",
       "      <td>5.000000</td>\n",
       "      <td>0.000000</td>\n",
       "      <td>15.000000</td>\n",
       "      <td>1.000000</td>\n",
       "      <td>120.447500</td>\n",
       "      <td>2.000000</td>\n",
       "    </tr>\n",
       "    <tr>\n",
       "      <th>75%</th>\n",
       "      <td>2018.000000</td>\n",
       "      <td>7.000000</td>\n",
       "      <td>2016.000000</td>\n",
       "      <td>1.700000e+04</td>\n",
       "      <td>5.000000</td>\n",
       "      <td>5.000000</td>\n",
       "      <td>0.000000</td>\n",
       "      <td>22.000000</td>\n",
       "      <td>1.000000</td>\n",
       "      <td>330.000000</td>\n",
       "      <td>6.000000</td>\n",
       "    </tr>\n",
       "    <tr>\n",
       "      <th>max</th>\n",
       "      <td>2021.000000</td>\n",
       "      <td>33.000000</td>\n",
       "      <td>2019.000000</td>\n",
       "      <td>9.999999e+06</td>\n",
       "      <td>20.000000</td>\n",
       "      <td>7.000000</td>\n",
       "      <td>5.000000</td>\n",
       "      <td>28.000000</td>\n",
       "      <td>4.000000</td>\n",
       "      <td>307302.943524</td>\n",
       "      <td>174694.840042</td>\n",
       "    </tr>\n",
       "  </tbody>\n",
       "</table>\n",
       "</div>"
      ],
      "text/plain": [
       "            Adv_year      Adv_month       Reg_year         Price  \\\n",
       "count  267951.000000  267951.000000  267951.000000  2.679510e+05   \n",
       "mean     2018.127997       5.626215    2012.707570  1.325693e+04   \n",
       "std         0.747601       2.091065       4.464612  3.998111e+04   \n",
       "min      2012.000000       1.000000    1900.000000 -6.997630e+05   \n",
       "25%      2018.000000       4.000000    2010.000000  4.980000e+03   \n",
       "50%      2018.000000       5.000000    2014.000000  9.275000e+03   \n",
       "75%      2018.000000       7.000000    2016.000000  1.700000e+04   \n",
       "max      2021.000000      33.000000    2019.000000  9.999999e+06   \n",
       "\n",
       "            Seat_num       Door_num       issue_id        Adv_day  \\\n",
       "count  267951.000000  267951.000000  267951.000000  267951.000000   \n",
       "mean        5.142026       4.300965       0.500625      14.530769   \n",
       "std         1.822196       1.143101       1.136547       8.066906   \n",
       "min         1.000000       0.000000       0.000000       1.000000   \n",
       "25%         5.000000       4.000000       0.000000       8.000000   \n",
       "50%         5.000000       5.000000       0.000000      15.000000   \n",
       "75%         5.000000       5.000000       0.000000      22.000000   \n",
       "max        20.000000       7.000000       5.000000      28.000000   \n",
       "\n",
       "       repair_complexity    repair_cost   repair_hours  \n",
       "count      267951.000000  267951.000000  267951.000000  \n",
       "mean            1.360809     440.062467      62.255709  \n",
       "std             0.724740    1931.753426     798.363583  \n",
       "min             1.000000   -2998.000000     -29.000000  \n",
       "25%             1.000000      40.698250       1.000000  \n",
       "50%             1.000000     120.447500       2.000000  \n",
       "75%             1.000000     330.000000       6.000000  \n",
       "max             4.000000  307302.943524  174694.840042  "
      ]
     },
     "execution_count": 125,
     "metadata": {},
     "output_type": "execute_result"
    }
   ],
   "source": [
    "#analiza descriptiva a tuturor variabilelor din baza de date\n",
    "bd.describe()"
   ]
  },
  {
   "cell_type": "code",
   "execution_count": 126,
   "id": "3d175f2c-94ef-48ba-aa46-4c0c9627ad50",
   "metadata": {},
   "outputs": [
    {
     "name": "stdout",
     "output_type": "stream",
     "text": [
      "+-------+-----------------+\n",
      "|summary|      repair_cost|\n",
      "+-------+-----------------+\n",
      "|  count|           267951|\n",
      "|   mean|440.0624671565676|\n",
      "| stddev|1931.753426125156|\n",
      "|    min|          -2998.0|\n",
      "|    max|307302.9435237476|\n",
      "+-------+-----------------+\n",
      "\n"
     ]
    }
   ],
   "source": [
    "#analiza descriptiva a unei singure variabile din baza de date \n",
    "df.describe('repair_cost').show()"
   ]
  },
  {
   "cell_type": "code",
   "execution_count": 127,
   "id": "56e7e3fa-5981-4bdf-892a-d2b61ccf94f8",
   "metadata": {},
   "outputs": [
    {
     "name": "stderr",
     "output_type": "stream",
     "text": [
      "                                                                                "
     ]
    },
    {
     "name": "stdout",
     "output_type": "stream",
     "text": [
      "+-------------+---------+------+\n",
      "|Maker_Gearbox|Automatic|Manual|\n",
      "+-------------+---------+------+\n",
      "|       Abarth|       53|   363|\n",
      "|   Alfa Romeo|      360|   759|\n",
      "| Aston Martin|      108|     9|\n",
      "|         Audi|    12469| 10041|\n",
      "|          BMW|    12948|  4228|\n",
      "|      Bentley|     1094|     0|\n",
      "|       Brooke|        0|     1|\n",
      "|      Bugatti|        2|     0|\n",
      "|     Cadillac|        6|     1|\n",
      "|     Caterham|        0|     3|\n",
      "|    Chevrolet|      137|   575|\n",
      "|     Chrysler|      222|   150|\n",
      "|      Citroen|     1623|  7657|\n",
      "|     Corvette|        1|     2|\n",
      "|          DAX|        0|     1|\n",
      "|           DS|      110|   558|\n",
      "|        Dacia|       23|  1718|\n",
      "|       Daewoo|        3|    16|\n",
      "|     Daihatsu|       10|    76|\n",
      "|      Daimler|        1|     0|\n",
      "+-------------+---------+------+\n",
      "only showing top 20 rows\n",
      "\n"
     ]
    }
   ],
   "source": [
    "df.crosstab('Maker', 'Gearbox').sort(\"Maker_Gearbox\").show()"
   ]
  },
  {
   "cell_type": "code",
   "execution_count": 128,
   "id": "21f555d5-ff95-46ea-9003-3c4de60979e8",
   "metadata": {},
   "outputs": [
    {
     "name": "stdout",
     "output_type": "stream",
     "text": [
      "123365 de vehicule au costul de reparatie < 100\n"
     ]
    }
   ],
   "source": [
    "nr_veh =df.filter(df.repair_cost < 100).count()\n",
    "print(nr_veh, \"de vehicule au costul de reparatie < 100\")"
   ]
  },
  {
   "cell_type": "code",
   "execution_count": 129,
   "id": "6c3da35c-459a-4bec-a5d4-2b2087cab0db",
   "metadata": {},
   "outputs": [
    {
     "name": "stdout",
     "output_type": "stream",
     "text": [
      "+-------------+------------------+\n",
      "|        Maker|  avg(repair_cost)|\n",
      "+-------------+------------------+\n",
      "|      Peugeot|234.47540124274545|\n",
      "|        Rover| 275.5019851993408|\n",
      "|  Rolls-Royce|   3746.2701395489|\n",
      "|   Mitsubishi|  402.976378734956|\n",
      "|        SKODA| 322.1374039708414|\n",
      "|      Perodua|            91.251|\n",
      "|      Sebring|            56.797|\n",
      "|       Proton|134.63773447052662|\n",
      "|         Saab|  248.704211412531|\n",
      "|      Pilgrim|           57.9955|\n",
      "|         SEAT| 348.5057163508657|\n",
      "|         Audi| 530.5035081466747|\n",
      "|          TVR| 2221.559553028695|\n",
      "|      Santana|              22.7|\n",
      "|Mercedes-Benz| 600.1466909606606|\n",
      "|      McLaren|4743.9066683131505|\n",
      "|    Ssangyong|502.01061571568385|\n",
      "|      Renault|249.70326399368022|\n",
      "|         Reva|           40.5985|\n",
      "|        Noble|           140.735|\n",
      "+-------------+------------------+\n",
      "only showing top 20 rows\n",
      "\n"
     ]
    }
   ],
   "source": [
    "df.groupby('Maker').agg({'repair_cost': 'mean'}).show()"
   ]
  },
  {
   "cell_type": "code",
   "execution_count": 130,
   "id": "ecf576e0-9efc-4739-a32c-b4228c392686",
   "metadata": {},
   "outputs": [
    {
     "name": "stdout",
     "output_type": "stream",
     "text": [
      "Coeficientul de corelatie dintre repair_cost si Price este: \n",
      " [[1.         0.24679968]\n",
      " [0.24679968 1.        ]]\n"
     ]
    }
   ],
   "source": [
    "import numpy as np\n",
    "vehicles_coefficient = np.corrcoef(bd.repair_cost, bd.Price)\n",
    "print(\"Coeficientul de corelatie dintre repair_cost si Price este: \\n\", vehicles_coefficient)"
   ]
  },
  {
   "cell_type": "code",
   "execution_count": 131,
   "id": "f00bd3f4-5ff5-4318-959e-3179dfd16430",
   "metadata": {},
   "outputs": [
    {
     "name": "stderr",
     "output_type": "stream",
     "text": [
      "                                                                                "
     ]
    },
    {
     "name": "stdout",
     "output_type": "stream",
     "text": [
      "Train set length: 187643 records\n"
     ]
    },
    {
     "name": "stderr",
     "output_type": "stream",
     "text": [
      "[Stage 198:===================>                                     (1 + 2) / 3]"
     ]
    },
    {
     "name": "stdout",
     "output_type": "stream",
     "text": [
      "Test set length: 80308 records\n"
     ]
    },
    {
     "name": "stderr",
     "output_type": "stream",
     "text": [
      "                                                                                "
     ]
    }
   ],
   "source": [
    "#impartirea bazei de date\n",
    "train_data, test_data = df.randomSplit([0.7, 0.3], seed=7)\n",
    "print(f\"Train set length: {train_data.count()} records\")\n",
    "print(f\"Test set length: {test_data.count()} records\")"
   ]
  },
  {
   "cell_type": "code",
   "execution_count": 132,
   "id": "11770cf6-f513-4906-9cd7-b0783ec7112c",
   "metadata": {},
   "outputs": [
    {
     "name": "stderr",
     "output_type": "stream",
     "text": [
      "[Stage 201:>                                                        (0 + 1) / 1]"
     ]
    },
    {
     "name": "stdout",
     "output_type": "stream",
     "text": [
      "+------+----------+------------+--------+---------+-----+--------+-----------+------------+----------+---------+---------+-------+--------+--------+------------------+--------+-------+--------------+-----------------+------------------+------------+-----------+\n",
      "| Maker|  Genmodel| Genmodel_ID|Adv_year|Adv_month|Color|Reg_year|   Bodytype|Runned_Miles|Engin_size|  Gearbox|Fuel_type|  Price|Seat_num|Door_num|             issue|issue_id|Adv_day|breakdown_date|repair_complexity|       repair_cost|repair_hours|repair_date|\n",
      "+------+----------+------------+--------+---------+-----+--------+-----------+------------+----------+---------+---------+-------+--------+--------+------------------+--------+-------+--------------+-----------------+------------------+------------+-----------+\n",
      "|Abarth|124 Spider|         2_1|    2017|        4| Grey|  2017.0|Convertible|        1000|      1.4L|Automatic|   Petrol|22890.0|     2.0|     2.0|      Engine Issue|       2|     17|    2017-04-17|                2| 19033.11090899944|        32.0| 2017-04-25|\n",
      "|Abarth|124 Spider|         2_1|    2017|        6|  Red|  2017.0|Convertible|          10|      1.4L|Automatic|   Petrol|24995.0|     2.0|     2.0|  Electrical Issue|       3|      7|    2017-06-07|                2|164.97500000000002|         2.0| 2017-06-07|\n",
      "|Abarth|124 Spider|         2_1|    2017|       10|White|  2017.0|Convertible|       -3961|      1.4L|Automatic|   Petrol|22995.0|     2.0|     2.0|Sensor Malfunction|       0|      4|    2017-10-04|                2|           1269.75|         6.0| 2017-10-05|\n",
      "|Abarth|124 Spider|         2_1|    2017|       12| Grey|  2017.0|Convertible|        3095|      1.4L|   Manual|   Petrol|24000.0|     2.0|     2.0|      Engine Issue|       3|     26|    2017-12-26|                2|            2880.0|        24.0| 2018-01-01|\n",
      "|Abarth|124 Spider|         2_1|    2017|       12|White|  2017.0|Convertible|        6000|      1.4L|Automatic|   Petrol|25995.0|     2.0|     2.0|Sensor Malfunction|       0|     23|    2017-12-23|                2|           1419.75|         6.0| 2017-12-24|\n",
      "+------+----------+------------+--------+---------+-----+--------+-----------+------------+----------+---------+---------+-------+--------+--------+------------------+--------+-------+--------------+-----------------+------------------+------------+-----------+\n",
      "only showing top 5 rows\n",
      "\n"
     ]
    },
    {
     "name": "stderr",
     "output_type": "stream",
     "text": [
      "                                                                                "
     ]
    }
   ],
   "source": [
    "#afisare primele 5 valori pt bd de training\n",
    "train_data.show(5)"
   ]
  },
  {
   "cell_type": "code",
   "execution_count": 133,
   "id": "198ba38d-c703-44a1-8773-c61d48aba3b4",
   "metadata": {},
   "outputs": [
    {
     "name": "stderr",
     "output_type": "stream",
     "text": [
      "[Stage 202:>                                                        (0 + 3) / 3]"
     ]
    },
    {
     "name": "stdout",
     "output_type": "stream",
     "text": [
      "+---------+------+\n",
      "|  Gearbox| count|\n",
      "+---------+------+\n",
      "|Automatic| 67975|\n",
      "|   Manual|119668|\n",
      "+---------+------+\n",
      "\n"
     ]
    },
    {
     "name": "stderr",
     "output_type": "stream",
     "text": [
      "                                                                                "
     ]
    }
   ],
   "source": [
    "train_data.groupBy(\"Gearbox\").count().show()"
   ]
  },
  {
   "cell_type": "code",
   "execution_count": 134,
   "id": "9fd95d9b-22a2-4324-9dff-0e3d9487d8ea",
   "metadata": {},
   "outputs": [],
   "source": [
    "#construim data processing pipeline\n",
    "### exemplu de encoder\n",
    "from pyspark.ml.feature import StringIndexer\n",
    "from pyspark.ml.feature import OneHotEncoder\n",
    "from pyspark.ml.feature import VectorAssembler"
   ]
  },
  {
   "cell_type": "code",
   "execution_count": 135,
   "id": "6f99cb54-261e-49a7-8111-987af568b414",
   "metadata": {},
   "outputs": [],
   "source": [
    "stringIndexer = StringIndexer(inputCol=\"Gearbox\", outputCol=\"Gearbox_encoded\")\n",
    "model = stringIndexer.fit(df)\n",
    "indexed = model.transform(df)\n",
    "encoder = OneHotEncoder(dropLast=False, inputCol=\"Gearbox_encoded\", outputCol=\"Gearbox_vec\")"
   ]
  },
  {
   "cell_type": "code",
   "execution_count": 136,
   "id": "f2e39fb6-b1d6-48fa-b622-6a5f45a76743",
   "metadata": {},
   "outputs": [
    {
     "name": "stdout",
     "output_type": "stream",
     "text": [
      "+-------+---------+------------+--------+---------+------+--------+--------+------------+----------+---------+---------+-------+--------+--------+----------------+--------+-------+--------------+-----------------+------------------+------------+-----------+---------------+-------------+\n",
      "|  Maker| Genmodel| Genmodel_ID|Adv_year|Adv_month| Color|Reg_year|Bodytype|Runned_Miles|Engin_size|  Gearbox|Fuel_type|  Price|Seat_num|Door_num|           issue|issue_id|Adv_day|breakdown_date|repair_complexity|       repair_cost|repair_hours|repair_date|Gearbox_encoded|  Gearbox_vec|\n",
      "+-------+---------+------------+--------+---------+------+--------+--------+------------+----------+---------+---------+-------+--------+--------+----------------+--------+-------+--------------+-----------------+------------------+------------+-----------+---------------+-------------+\n",
      "|Bentley|   Arnage|        10_1|    2018|        4|Silver|  2000.0|  Saloon|       60000|      6.8L|Automatic|   Petrol|21500.0|     5.0|     4.0|Electrical Issue|       4|     12|    2018-04-12|                3|             184.5|         6.0| 2018-04-13|            1.0|(2,[1],[1.0])|\n",
      "|Bentley|   Arnage|        10_1|    2018|        6|  Grey|  2002.0|  Saloon|       44000|      6.8L|Automatic|   Petrol|28750.0|     5.0|     4.0| Brake Pads Worn|       0|     10|    2018-06-10|                3|           134.375|         6.0| 2018-06-11|            1.0|(2,[1],[1.0])|\n",
      "|Bentley|   Arnage|        10_1|    2017|       11|  Blue|  2002.0|  Saloon|       55000|      6.8L|Automatic|   Petrol|29999.0|     5.0|     4.0|      Flat Tyres|       0|      2|    2017-11-02|                3|           68.9997|         3.0| 2017-11-02|            1.0|(2,[1],[1.0])|\n",
      "|Bentley|   Arnage|        10_1|    2018|        4| Green|  2003.0|  Saloon|       14000|      6.8L|Automatic|   Petrol|34948.0|     5.0|     4.0|  Gear Box Issue|       0|     27|    2018-04-27|                3|            469.48|         6.0| 2018-04-28|            1.0|(2,[1],[1.0])|\n",
      "|Bentley|   Arnage|        10_1|    2017|       11|  Grey|  2003.0|  Saloon|       61652|      6.8L|Automatic|   Petrol|26555.0|     5.0|     4.0|Electrical Issue|       4|     23|    2017-11-23|                3|199.66500000000002|         6.0| 2017-11-24|            1.0|(2,[1],[1.0])|\n",
      "|Bentley|   Arnage|        10_1|    2017|       12|  Blue|  2002.0|  Saloon|       55000|      6.8L|Automatic|   Petrol|24950.0|     5.0|     4.0|      Flat Tyres|       0|      7|    2017-12-07|                3|            67.485|         3.0| 2017-12-07|            1.0|(2,[1],[1.0])|\n",
      "|Bentley|   Arnage|        10_1|    2018|        8| Green|  2002.0|  Saloon|       67000|      6.8L|Automatic|   Petrol|29995.0|     5.0|     4.0|Windscreen Crack|       0|     15|    2018-08-15|                3|            77.997|         3.0| 2018-08-15|            1.0|(2,[1],[1.0])|\n",
      "|Bentley|   Arnage|        10_1|    2018|        4| Black|  2003.0|  Saloon|       99200|      6.8L|Automatic|   Petrol|22450.0|     5.0|     4.0|Radiator Leaking|       0|      1|    2018-04-01|                3|             569.0|         6.0| 2018-04-02|            1.0|(2,[1],[1.0])|\n",
      "|Bentley|   Arnage|        10_1|    2018|        2|Silver|  2003.0|  Saloon|       27541|      6.8L|Automatic|   Petrol|26990.0|     4.0|     4.0|Radiator Leaking|       0|      9|    2018-02-09|                3|             659.8|         6.0| 2018-02-10|            1.0|(2,[1],[1.0])|\n",
      "|Bentley|   Arnage|        10_1|    2017|       11|Silver|  2003.0|  Saloon|       38000|      6.8L|Automatic|   Petrol|29995.0|     5.0|     4.0|    Engine Issue|       2|     21|    2017-11-21|                3| 23801.92097015141|        48.0| 2017-12-03|            1.0|(2,[1],[1.0])|\n",
      "+-------+---------+------------+--------+---------+------+--------+--------+------------+----------+---------+---------+-------+--------+--------+----------------+--------+-------+--------------+-----------------+------------------+------------+-----------+---------------+-------------+\n",
      "only showing top 10 rows\n",
      "\n"
     ]
    }
   ],
   "source": [
    "ohe = encoder.fit(indexed)\n",
    "encoded = ohe.transform(indexed)\n",
    "encoded.show(10)"
   ]
  },
  {
   "cell_type": "code",
   "execution_count": 137,
   "id": "97e0a594-6eed-440d-ad26-f05143451be9",
   "metadata": {},
   "outputs": [],
   "source": [
    "###### CONSTRUIM PIPELINE-UL ######\n",
    "# 1. Encode the categorical data (facem encoding variabilelor categoriale)\n",
    "from pyspark.ml import Pipeline\n",
    "#from pyspark.ml.feature import OneHotEncoderEstimator\n",
    "from pyspark.ml.feature import OneHotEncoder\n",
    "\n",
    "CATE_FEATURES = ['Maker', 'Gearbox', 'Bodytype', 'Color', 'issue', 'Fuel_type', 'Runned_Miles']\n",
    "stages = [] # stages in our Pipeline\n",
    "for categoricalCol in CATE_FEATURES:\n",
    "    stringIndexer = StringIndexer(inputCol=categoricalCol, outputCol=categoricalCol + \"Index\")\n",
    "    encoder = OneHotEncoder(inputCols=[stringIndexer.getOutputCol()],\n",
    "                                     outputCols=[categoricalCol + \"classVec\"])\n",
    "    stages += [stringIndexer, encoder]"
   ]
  },
  {
   "cell_type": "code",
   "execution_count": 138,
   "id": "c1a14b21-358e-430d-a474-15235def65fe",
   "metadata": {},
   "outputs": [],
   "source": [
    "label_stringIdx =  StringIndexer(inputCol=\"Gearbox\", outputCol=\"newGearbox\")\n",
    "stages += [label_stringIdx]"
   ]
  },
  {
   "cell_type": "code",
   "execution_count": 139,
   "id": "7249fd0f-ff0e-408f-94f7-0907345e5327",
   "metadata": {},
   "outputs": [],
   "source": [
    "\n",
    "assemblerInputs = [c + \"classVec\" for c in CATE_FEATURES] + Vector"
   ]
  },
  {
   "cell_type": "code",
   "execution_count": 140,
   "id": "351e34b4-fdc1-4ecd-a9c9-21e353093304",
   "metadata": {},
   "outputs": [],
   "source": [
    "#punem totul laolalta in VectorAssembler\n",
    "assembler = VectorAssembler(inputCols=assemblerInputs, outputCol=\"features\")\n",
    "stages += [assembler]"
   ]
  },
  {
   "cell_type": "code",
   "execution_count": 141,
   "id": "93798196-3cca-4163-886b-dc755d73f9e6",
   "metadata": {},
   "outputs": [],
   "source": [
    "#aici impingem datele in Pipeline\n",
    "from pyspark.ml import Pipeline\n",
    "from pyspark.ml.classification import LogisticRegression\n",
    "from pyspark.ml.feature import HashingTF, Tokenizer\n",
    "\n",
    "# Create a Pipeline.\n",
    "pipeline = Pipeline(stages=stages)\n",
    "pipelineModel = pipeline.fit(df)\n",
    "model = pipelineModel.transform(df)"
   ]
  },
  {
   "cell_type": "code",
   "execution_count": 142,
   "id": "22c05d52-8152-4143-bcb1-29377d763f73",
   "metadata": {},
   "outputs": [
    {
     "name": "stderr",
     "output_type": "stream",
     "text": [
      "25/06/04 05:29:16 WARN DAGScheduler: Broadcasting large task binary with size 2.2 MiB\n"
     ]
    },
    {
     "data": {
      "text/plain": [
       "[Row(Maker='Bentley',  Genmodel='Arnage',  Genmodel_ID='10_1', Adv_year=2018, Adv_month=4, Color='Silver', Reg_year=2000.0, Bodytype='Saloon', Runned_Miles='60000', Engin_size='6.8L', Gearbox='Automatic', Fuel_type='Petrol', Price=21500.0, Seat_num=5.0, Door_num=4.0, issue='Electrical Issue', issue_id=4, Adv_day=12, breakdown_date=datetime.date(2018, 4, 12), repair_complexity=3, repair_cost=184.5, repair_hours=6.0, repair_date=datetime.date(2018, 4, 13), MakerIndex=30.0, MakerclassVec=SparseVector(85, {30: 1.0}), GearboxIndex=1.0, GearboxclassVec=SparseVector(1, {}), BodytypeIndex=2.0, BodytypeclassVec=SparseVector(17, {2: 1.0}), ColorIndex=1.0, ColorclassVec=SparseVector(22, {1: 1.0}), issueIndex=6.0, issueclassVec=SparseVector(14, {6: 1.0}), Fuel_typeIndex=1.0, Fuel_typeclassVec=SparseVector(13, {1: 1.0}), Runned_MilesIndex=3.0, Runned_MilesclassVec=SparseVector(73408, {3: 1.0}), newGearbox=1.0, features=SparseVector(73571, {30: 1.0, 88: 1.0, 104: 1.0, 131: 1.0, 140: 1.0, 155: 1.0, 73560: 2018.0, 73561: 4.0, 73562: 2000.0, 73563: 21500.0, 73564: 5.0, 73565: 4.0, 73566: 4.0, 73567: 12.0, 73568: 3.0, 73569: 184.5, 73570: 6.0}))]"
      ]
     },
     "execution_count": 142,
     "metadata": {},
     "output_type": "execute_result"
    }
   ],
   "source": [
    "model.take(1)"
   ]
  },
  {
   "cell_type": "code",
   "execution_count": null,
   "id": "675932f9-3a2a-4677-a3e0-5d3d9210e1f6",
   "metadata": {},
   "outputs": [],
   "source": []
  }
 ],
 "metadata": {
  "kernelspec": {
   "display_name": "Python 3 (ipykernel)",
   "language": "python",
   "name": "python3"
  },
  "language_info": {
   "codemirror_mode": {
    "name": "ipython",
    "version": 3
   },
   "file_extension": ".py",
   "mimetype": "text/x-python",
   "name": "python",
   "nbconvert_exporter": "python",
   "pygments_lexer": "ipython3",
   "version": "3.10.12"
  }
 },
 "nbformat": 4,
 "nbformat_minor": 5
}
